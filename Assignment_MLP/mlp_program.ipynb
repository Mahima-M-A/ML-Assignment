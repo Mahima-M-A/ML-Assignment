{
 "cells": [
  {
   "cell_type": "code",
   "execution_count": 27,
   "metadata": {},
   "outputs": [],
   "source": [
    "import numpy as np\n",
    "import matplotlib.pyplot as plt\n",
    "import seaborn as sns"
   ]
  },
  {
   "cell_type": "markdown",
   "metadata": {},
   "source": [
    "Declaration of the required variables"
   ]
  },
  {
   "cell_type": "code",
   "execution_count": 28,
   "metadata": {},
   "outputs": [],
   "source": [
    "fileName = 'data.txt' #file name\n",
    "rows = []\n",
    "weights = []\n",
    "columns = 0\n",
    "epochs = 0\n",
    "learningRate = 0\n",
    "trainData, testData, trainTarget, testTarget, trainFeatures, testFeatures = [], [], [], [], [], []\n",
    "predictedOutput = []\n",
    "errorValues = []"
   ]
  },
  {
   "cell_type": "code",
   "execution_count": 29,
   "metadata": {},
   "outputs": [],
   "source": [
    "fp = open(fileName, 'r')\n",
    "lines = fp.readlines()\n",
    "\n",
    "#cast each row's values from string to float and form a list of rows\n",
    "for line in lines:\n",
    "    l = [float(x) for x in line.split('\\t')]\n",
    "    rows.append(l)\n",
    "\n",
    "columns = len(rows[0]) - 1 #no. of features"
   ]
  },
  {
   "cell_type": "markdown",
   "metadata": {},
   "source": [
    "Splitting data into test set and training set (70/30)"
   ]
  },
  {
   "cell_type": "code",
   "execution_count": 30,
   "metadata": {},
   "outputs": [],
   "source": [
    "np.random.seed(0)  \n",
    "np.random.shuffle(rows)   # to have the same shuffle and split every time the code is run\n",
    "#70% of the data is used as train data\n",
    "for i in range(int(0.7 * len(rows))):\n",
    "    trainData.append(rows[i])\n",
    "    trainTarget.append(int(rows[i][-1])) #the output column values of train data\n",
    "    trainFeatures.append(rows[i][:-1]) #the list of feature values of train data\n",
    "\n",
    "#remainder(30%) of the data is used as test data \n",
    "for i in range(int(0.7 * len(rows)), len(rows)):\n",
    "    testData.append(rows[i])\n",
    "    testTarget.append(int(rows[i][-1])) #the output column values of test data\n",
    "    testFeatures.append(rows[i][:-1]) #the list of feature values of test data"
   ]
  },
  {
   "cell_type": "markdown",
   "metadata": {},
   "source": [
    "Display total no. of records, train data and test data target values"
   ]
  },
  {
   "cell_type": "code",
   "execution_count": 31,
   "metadata": {},
   "outputs": [
    {
     "name": "stdout",
     "output_type": "stream",
     "text": [
      "No. of records:  140\n"
     ]
    }
   ],
   "source": [
    "print('No. of records: ',len(trainData) + len(testData))"
   ]
  },
  {
   "cell_type": "code",
   "execution_count": 32,
   "metadata": {},
   "outputs": [
    {
     "name": "stdout",
     "output_type": "stream",
     "text": [
      "trainTarget:  [0, 0, 1, 0, 1, 0, 1, 1, 1, 1, 1, 0, 0, 1, 1, 1, 1, 1, 0, 1, 1, 0, 1, 0, 1, 0, 0, 1, 0, 0, 0, 0, 1, 0, 1, 1, 0, 1, 1, 1, 0, 0, 0, 1, 1, 1, 1, 1, 1, 0, 0, 1, 1, 1, 0, 0, 0, 0, 1, 0, 1, 0, 1, 1, 1, 1, 0, 1, 1, 1, 1, 0, 1, 1, 0, 1, 1, 1, 1, 0, 1, 1, 0, 0, 1, 0, 1, 1, 1, 0, 0, 0, 1, 0, 0, 1, 0, 1]\n"
     ]
    }
   ],
   "source": [
    "print('trainTarget: ',  trainTarget)"
   ]
  },
  {
   "cell_type": "code",
   "execution_count": 33,
   "metadata": {},
   "outputs": [
    {
     "name": "stdout",
     "output_type": "stream",
     "text": [
      "testTarget:  [0, 1, 0, 0, 1, 0, 1, 0, 0, 0, 1, 1, 1, 0, 1, 1, 0, 1, 1, 1, 0, 1, 1, 1, 0, 0, 1, 1, 0, 1, 0, 0, 1, 1, 1, 0, 0, 1, 1, 0, 1, 0]\n"
     ]
    }
   ],
   "source": [
    "print('testTarget: ', testTarget)"
   ]
  },
  {
   "cell_type": "markdown",
   "metadata": {},
   "source": [
    "To initialize epochs, learningRate and weights"
   ]
  },
  {
   "cell_type": "code",
   "execution_count": 34,
   "metadata": {},
   "outputs": [
    {
     "name": "stdout",
     "output_type": "stream",
     "text": [
      "Initial weights:  [0.5528214798875715, 0.16494046024188413, 0.36980809274834003, 0.14644176272911225, 0.5696184059233067, 0.7037372792899163, 0.28847643704852866]\n"
     ]
    }
   ],
   "source": [
    "epochs = 1000\n",
    "learningRate = 0.01\n",
    "weights.append(1.0)\n",
    "\n",
    "for _ in range(1, columns+1):\n",
    "    r = np.random.uniform(0.0, 1.0) #assigns random float values in the range 0.0 to 0.1\n",
    "    weights.append(r)\n",
    "\n",
    "print(\"Initial weights: \", weights[1:])"
   ]
  },
  {
   "cell_type": "markdown",
   "metadata": {},
   "source": [
    "Training weights"
   ]
  },
  {
   "cell_type": "code",
   "execution_count": 35,
   "metadata": {},
   "outputs": [],
   "source": [
    "#activation function to return a value 0 if sum<0 and 1 if sum>=0 (sigmoid function, tanh etc can also be used)\n",
    "def predict(trainDataRow):\n",
    "    sum = 0\n",
    "    for i in range(columns):\n",
    "        sum += trainDataRow[i] * weights[i+1]\n",
    "    sum += weights[0]\n",
    "    return 0 if sum < 0 else 1"
   ]
  },
  {
   "cell_type": "code",
   "execution_count": 36,
   "metadata": {},
   "outputs": [],
   "source": [
    "for epoch in range(epochs):\n",
    "    misclassified = 0\n",
    "    for j in range(len(trainFeatures)):\n",
    "        p = predict(trainFeatures[j])\n",
    "        error = trainTarget[j] - p\n",
    "\n",
    "        if(error):\n",
    "            misclassified += 1\n",
    "            \n",
    "        weights[0] += learningRate * error\n",
    "\n",
    "        for k in range(1, columns+1):\n",
    "            weights[k] += learningRate * error * trainFeatures[j][k-1]\n",
    "        \n",
    "    errorValues.append(misclassified)"
   ]
  },
  {
   "cell_type": "code",
   "execution_count": 37,
   "metadata": {},
   "outputs": [
    {
     "name": "stdout",
     "output_type": "stream",
     "text": [
      "epoch: 999  updated weights: [0.13999999999999924, 3.207421479888147, -3.4480595397580394, -0.5476529072516312, -1.7260082372706895, 0.31627840592336753, -0.3740517207100016, 2.286336437048364]\n"
     ]
    }
   ],
   "source": [
    "print(\"epoch: \"+str(epoch)+\"  updated weights: \"+str(weights))"
   ]
  },
  {
   "cell_type": "code",
   "execution_count": 38,
   "metadata": {},
   "outputs": [
    {
     "name": "stdout",
     "output_type": "stream",
     "text": [
      "\n",
      "\n",
      "No. of epochs:  1000\n"
     ]
    }
   ],
   "source": [
    "print(\"\\n\\nNo. of epochs: \", epochs)"
   ]
  },
  {
   "cell_type": "code",
   "execution_count": 39,
   "metadata": {},
   "outputs": [
    {
     "name": "stdout",
     "output_type": "stream",
     "text": [
      "Learning rate:  0.01\n"
     ]
    }
   ],
   "source": [
    "print(\"Learning rate: \", learningRate)"
   ]
  },
  {
   "cell_type": "code",
   "execution_count": 40,
   "metadata": {},
   "outputs": [
    {
     "name": "stdout",
     "output_type": "stream",
     "text": [
      "Learnt weights:  [3.207421479888147, -3.4480595397580394, -0.5476529072516312, -1.7260082372706895, 0.31627840592336753, -0.3740517207100016, 2.286336437048364]\n"
     ]
    }
   ],
   "source": [
    "print(\"Learnt weights: \", weights[1:])"
   ]
  },
  {
   "cell_type": "markdown",
   "metadata": {},
   "source": [
    "Plot showing error(misclassified) vs epochs"
   ]
  },
  {
   "cell_type": "code",
   "execution_count": 41,
   "metadata": {},
   "outputs": [
    {
     "data": {
      "image/png": "[encoded data removed]",
      "text/plain": [
       "<Figure size 432x288 with 1 Axes>"
      ]
     },
     "metadata": {
      "needs_background": "light"
     },
     "output_type": "display_data"
    }
   ],
   "source": [
    "plt.plot(np.arange(1, epochs+1), errorValues)\n",
    "plt.xlabel('epochs')\n",
    "plt.ylabel('misclassifications')\n",
    "plt.show()"
   ]
  },
  {
   "cell_type": "markdown",
   "metadata": {},
   "source": [
    "Accuracy of model on training data"
   ]
  },
  {
   "cell_type": "code",
   "execution_count": 42,
   "metadata": {},
   "outputs": [
    {
     "name": "stdout",
     "output_type": "stream",
     "text": [
      "Accuracy on training data: 90.58725531028733 %\n"
     ]
    }
   ],
   "source": [
    "scores = []\n",
    "for i in range(len(trainFeatures)):\n",
    "    correct = 0\n",
    "    if trainTarget[i] == predict(trainFeatures[i]):\n",
    "        correct += 1\n",
    "    scores.append(correct / float(len(trainTarget)) * 100.0)\n",
    "print('Accuracy on training data:', (sum(scores) / float(len(scores))) * 100, '%')"
   ]
  },
  {
   "cell_type": "markdown",
   "metadata": {},
   "source": [
    "Testing the perceptron using test data features"
   ]
  },
  {
   "cell_type": "code",
   "execution_count": 43,
   "metadata": {},
   "outputs": [
    {
     "name": "stdout",
     "output_type": "stream",
     "text": [
      "Actual target values - Predicted target values\n",
      "      0    -    1\n",
      "      1    -    1\n",
      "      0    -    0\n",
      "      0    -    0\n",
      "      1    -    1\n",
      "      0    -    0\n",
      "      1    -    1\n",
      "      0    -    0\n",
      "      0    -    0\n",
      "      0    -    0\n",
      "      1    -    1\n",
      "      1    -    1\n",
      "      1    -    1\n",
      "      0    -    0\n",
      "      1    -    1\n",
      "      1    -    1\n",
      "      0    -    0\n",
      "      1    -    1\n",
      "      1    -    1\n",
      "      1    -    1\n",
      "      0    -    0\n",
      "      1    -    1\n",
      "      1    -    1\n",
      "      1    -    1\n",
      "      0    -    1\n",
      "      0    -    1\n",
      "      1    -    1\n",
      "      1    -    1\n",
      "      0    -    1\n",
      "      1    -    1\n",
      "      0    -    0\n",
      "      0    -    1\n",
      "      1    -    1\n",
      "      1    -    1\n",
      "      1    -    1\n",
      "      0    -    1\n",
      "      0    -    0\n",
      "      1    -    1\n",
      "      1    -    1\n",
      "      0    -    0\n",
      "      1    -    1\n",
      "      0    -    0\n"
     ]
    }
   ],
   "source": [
    "print('Actual target values - Predicted target values')\n",
    "for i in range(len(testFeatures)):\n",
    "    predictedOutput.append(predict(testFeatures[i]))\n",
    "    print('     ',testTarget[i],'   -   ',predictedOutput[i])"
   ]
  },
  {
   "cell_type": "markdown",
   "metadata": {},
   "source": [
    "Calculating accuracy metrics"
   ]
  },
  {
   "cell_type": "code",
   "execution_count": 44,
   "metadata": {},
   "outputs": [],
   "source": [
    "TP, TN, FP, FN = 0, 0, 0, 0 #true positive, true negative, false positive, false negative(accuracy metrics)\n",
    "    \n",
    "for i in range(len(testData)):\n",
    "    if testTarget[i] == predictedOutput[i] and predictedOutput[i] == 1:\n",
    "        TP += 1\n",
    "    elif testTarget[i] == predictedOutput[i] and predictedOutput[i] == 0:\n",
    "        TN += 1\n",
    "    elif testTarget[i] != predictedOutput[i] and predictedOutput[i] == 1:\n",
    "        FP += 1\n",
    "    else:\n",
    "        FN += 1"
   ]
  },
  {
   "cell_type": "code",
   "execution_count": 45,
   "metadata": {},
   "outputs": [
    {
     "data": {
      "text/plain": [
       "23"
      ]
     },
     "execution_count": 45,
     "metadata": {},
     "output_type": "execute_result"
    }
   ],
   "source": [
    "TP"
   ]
  },
  {
   "cell_type": "code",
   "execution_count": 46,
   "metadata": {},
   "outputs": [
    {
     "data": {
      "text/plain": [
       "13"
      ]
     },
     "execution_count": 46,
     "metadata": {},
     "output_type": "execute_result"
    }
   ],
   "source": [
    "TN"
   ]
  },
  {
   "cell_type": "code",
   "execution_count": 47,
   "metadata": {},
   "outputs": [
    {
     "data": {
      "text/plain": [
       "6"
      ]
     },
     "execution_count": 47,
     "metadata": {},
     "output_type": "execute_result"
    }
   ],
   "source": [
    "FP"
   ]
  },
  {
   "cell_type": "code",
   "execution_count": 48,
   "metadata": {},
   "outputs": [
    {
     "data": {
      "text/plain": [
       "0"
      ]
     },
     "execution_count": 48,
     "metadata": {},
     "output_type": "execute_result"
    }
   ],
   "source": [
    "FN"
   ]
  },
  {
   "cell_type": "code",
   "execution_count": 49,
   "metadata": {},
   "outputs": [
    {
     "name": "stdout",
     "output_type": "stream",
     "text": [
      "Confusion Matrix:\n",
      " 23 0\n",
      " 6 13\n"
     ]
    }
   ],
   "source": [
    "confusionMatrix = [[TP, FN], [FP, TN]]\n",
    "print('Confusion Matrix:\\n', str(confusionMatrix[0][0])+' '+str(confusionMatrix[0][1])+'\\n '+str(confusionMatrix[1][0])+' '+str(confusionMatrix[1][1]))"
   ]
  },
  {
   "cell_type": "code",
   "execution_count": 50,
   "metadata": {},
   "outputs": [
    {
     "name": "stdout",
     "output_type": "stream",
     "text": [
      "Accuracy:  0.8571428571428571\n"
     ]
    }
   ],
   "source": [
    "Accuracy = (TP + TN) / (TP + TN + FP + FN)\n",
    "print('Accuracy: ',Accuracy)"
   ]
  },
  {
   "cell_type": "code",
   "execution_count": 51,
   "metadata": {},
   "outputs": [
    {
     "name": "stdout",
     "output_type": "stream",
     "text": [
      "Precision:  0.7931034482758621\n"
     ]
    }
   ],
   "source": [
    "Precision = TP / (TP + FP)\n",
    "print('Precision: ',Precision)"
   ]
  },
  {
   "cell_type": "code",
   "execution_count": 52,
   "metadata": {},
   "outputs": [
    {
     "name": "stdout",
     "output_type": "stream",
     "text": [
      "Recall:  1.0\n"
     ]
    }
   ],
   "source": [
    "Recall = TP / (TP + FN)\n",
    "print('Recall: ',Recall)"
   ]
  },
  {
   "cell_type": "markdown",
   "metadata": {},
   "source": [
    "CONCLUSION\n",
    "\n",
    "The above model has been run on seeds dataset using stochastic gradient descent. And it has been observed that the model runs with an accuracy of 90.58% on the train data and with an accuracy of 85.71% on the test data."
   ]
  }
 ],
 "metadata": {
  "kernelspec": {
   "display_name": "Python 3",
   "language": "python",
   "name": "python3"
  },
  "language_info": {
   "codemirror_mode": {
    "name": "ipython",
    "version": 3
   },
   "file_extension": ".py",
   "mimetype": "text/x-python",
   "name": "python",
   "nbconvert_exporter": "python",
   "pygments_lexer": "ipython3",
   "version": "3.7.2"
  }
 },
 "nbformat": 4,
 "nbformat_minor": 4
}
