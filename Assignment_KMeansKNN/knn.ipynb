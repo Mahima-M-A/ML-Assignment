{
 "cells": [
  {
   "cell_type": "code",
   "execution_count": 90,
   "metadata": {},
   "outputs": [],
   "source": [
    "import numpy as np\n",
    "import math\n",
    "from collections import Counter\n",
    "import matplotlib.pyplot as plt\n",
    "import pandas as pd\n",
    "import seaborn as sns"
   ]
  },
  {
   "cell_type": "markdown",
   "metadata": {},
   "source": [
    "Function to load data from the file and preprocess it"
   ]
  },
  {
   "cell_type": "code",
   "execution_count": 91,
   "metadata": {},
   "outputs": [],
   "source": [
    "def loadData(lines):\n",
    "    rows =[]\n",
    "    headers = lines[0].strip().split(',')\n",
    "    #cast each row's values from string to float and form a list of rows\n",
    "    for line in lines[1:]:\n",
    "        flag = 0\n",
    "        l = []\n",
    "        for x in line.split(','):\n",
    "            if(x == ''):\n",
    "                flag=1\n",
    "                break\n",
    "            else:\n",
    "                l.append(float(x))\n",
    "        if flag == 0:\n",
    "            rows.append(l)\n",
    "\n",
    "    columns = len(rows[0]) - 1 #no. of features\n",
    "    print('No. of records: ',len(rows))\n",
    "    return headers, rows, columns"
   ]
  },
  {
   "cell_type": "markdown",
   "metadata": {},
   "source": [
    "Function to have the same shuffle and split"
   ]
  },
  {
   "cell_type": "code",
   "execution_count": 92,
   "metadata": {},
   "outputs": [],
   "source": [
    "def shuffleData(rows):\n",
    "    np.random.seed(0)\n",
    "    np.random.shuffle(rows)\n",
    "    return rows"
   ]
  },
  {
   "cell_type": "markdown",
   "metadata": {},
   "source": [
    "Function to split data"
   ]
  },
  {
   "cell_type": "code",
   "execution_count": 93,
   "metadata": {},
   "outputs": [],
   "source": [
    "def splitData(rows):\n",
    "    trainData, testData, trainTarget, testTarget, trainFeatures, testFeatures = [], [], [], [], [], []\n",
    "\n",
    "    #70% of the data is used as train data\n",
    "    for i in range(int(0.7 * len(rows))):\n",
    "        trainData.append(rows[i])\n",
    "        trainTarget.append(rows[i][-1]) #the output column values of train data\n",
    "        trainFeatures.append(rows[i][:-1]) #the list of feature values of train data\n",
    "\n",
    "    #remainder(30%) of the data is used as test data \n",
    "    for i in range(int(0.7 * len(rows)), len(rows)):\n",
    "        testData.append(rows[i])\n",
    "        testTarget.append(rows[i][-1]) #the output column values of test data\n",
    "        testFeatures.append(rows[i][:-1]) #the list of feature values of test data\n",
    "\n",
    "    #Display train data and test data target values\n",
    "    print('trainTarget: ',  trainTarget)\n",
    "    print('testTarget: ', testTarget)\n",
    "    return trainData, testData, trainTarget, testTarget, trainFeatures, testFeatures"
   ]
  },
  {
   "cell_type": "markdown",
   "metadata": {},
   "source": [
    "Distance metrics"
   ]
  },
  {
   "cell_type": "code",
   "execution_count": 94,
   "metadata": {},
   "outputs": [],
   "source": [
    "def euclideanDistance(v1, v2):\n",
    "    dist = 0\n",
    "    for i in range(len(v1) - 1):\n",
    "        dist += (v1[i] - v2[i])**2\n",
    "    return math.sqrt(dist)\n",
    "\n",
    "def manhattanDistance(v1, v2):\n",
    "    dist = 0\n",
    "    for i in range(len(v1) - 1):\n",
    "        dist += abs(v1[i] - v2[i])\n",
    "    return dist\n",
    "\n",
    "def chebyshevDistance(v1, v2):\n",
    "    dist = []\n",
    "    for i in range(len(v1) - 1):\n",
    "        dist.append(abs(v1[i] - v2[i]))\n",
    "    return max(dist)"
   ]
  },
  {
   "cell_type": "markdown",
   "metadata": {},
   "source": [
    "Function to calculate the distance between the test data pt with every train data pt"
   ]
  },
  {
   "cell_type": "code",
   "execution_count": 95,
   "metadata": {},
   "outputs": [],
   "source": [
    "def calcDist(testRow, distFunc, trainFeatures):\n",
    "    distances = []\n",
    "    for index,trainRow in enumerate(trainFeatures):\n",
    "        dis = distFunc(trainRow, testRow)\n",
    "        distances.append((index, dis))\n",
    "    return sorted(distances, key = lambda x: x[1])"
   ]
  },
  {
   "cell_type": "code",
   "execution_count": 96,
   "metadata": {},
   "outputs": [],
   "source": [
    "#to find the best label for the data point\n",
    "def mode(labels):\n",
    "    return Counter(labels).most_common(1)[0][0]"
   ]
  },
  {
   "cell_type": "code",
   "execution_count": 97,
   "metadata": {},
   "outputs": [],
   "source": [
    "#knn model\n",
    "def knnModel(kValue, testFeatures, trainFeatures, distFunc):\n",
    "    kNearestNeighbours = []\n",
    "    kNearestLabels = []\n",
    "    for index,row in enumerate(testFeatures):\n",
    "        neighbours = calcDist(row, distFunc, trainFeatures)\n",
    "        kNearestNeighbours.append(neighbours[:kValue])\n",
    "        klabels = [trainTarget[i] for i, dis in kNearestNeighbours[index]]\n",
    "        nearestLabel = mode(klabels)\n",
    "        kNearestLabels.append((index, nearestLabel))\n",
    "    return kNearestLabels"
   ]
  },
  {
   "cell_type": "markdown",
   "metadata": {},
   "source": [
    "Function to normalize dataset"
   ]
  },
  {
   "cell_type": "code",
   "execution_count": 98,
   "metadata": {},
   "outputs": [],
   "source": [
    "def normalizeDataset():\n",
    "    column, normalRow, normalRows = [], [], []\n",
    "    for i in range(columns+1):\n",
    "        cols=[j[i] for j in rows]\n",
    "        column.append(cols)\n",
    "        cols=[]\n",
    "\n",
    "    minimum=[min(i) for i in column]\n",
    "    maximum=[max(i) for i in column]\n",
    "    for i in range(len(rows)):\n",
    "        for j in range(len(rows[0])):\n",
    "            if not j == len(rows[0])-1:\n",
    "                normalRow.append((rows[i][j] - minimum[j]) / (maximum[j] - minimum[j]))\n",
    "            else:\n",
    "                normalRow.append(rows[i][j])\n",
    "        normalRows.append(normalRow)\n",
    "        normalRow = []\n",
    "\n",
    "    return normalRows"
   ]
  },
  {
   "cell_type": "code",
   "execution_count": 99,
   "metadata": {},
   "outputs": [],
   "source": [
    "#performance metrics calculation\n",
    "def classificationReport(kNearestLabels):\n",
    "    TP, TN, FP, FN = 0, 0, 0, 0\n",
    "    for i, label in kNearestLabels:\n",
    "        if testTarget[i] == label and label == 1:\n",
    "            TP += 1\n",
    "        elif testTarget[i] == label and label == 0:\n",
    "            TN += 1\n",
    "        elif testTarget[i] != label and label == 1:\n",
    "            FP += 1\n",
    "        else:\n",
    "            FN += 1\n",
    "    \n",
    "    confusionMatrix = [[TP, FN], [FP, TN]]\n",
    "    print('Confusion Matrix:\\n', str(confusionMatrix[0][0])+' '+str(confusionMatrix[0][1])+'\\n '+str(confusionMatrix[1][0])+' '+str(confusionMatrix[1][1]))\n",
    "    Accuracy = (TP + TN) / (TP + TN + FP + FN)\n",
    "    print('Accuracy: ',Accuracy)\n",
    "    Precision = TP / (TP + FP)\n",
    "    print('Precision: ',Precision)\n",
    "    Recall = TP / (TP + FN)\n",
    "    print('Recall: ',Recall)\n",
    "    return Accuracy"
   ]
  },
  {
   "cell_type": "code",
   "execution_count": 100,
   "metadata": {},
   "outputs": [
    {
     "name": "stdout",
     "output_type": "stream",
     "text": [
      "No. of records:  743\n",
      "trainTarget:  [0.0, 0.0, 0.0, 1.0, 0.0, 1.0, 1.0, 0.0, 1.0, 0.0, 0.0, 0.0, 1.0, 0.0, 0.0, 1.0, 1.0, 0.0, 1.0, 0.0, 0.0, 1.0, 0.0, 1.0, 0.0, 0.0, 1.0, 0.0, 1.0, 0.0, 0.0, 0.0, 0.0, 0.0, 0.0, 0.0, 0.0, 0.0, 1.0, 1.0, 1.0, 0.0, 0.0, 1.0, 0.0, 1.0, 0.0, 0.0, 0.0, 0.0, 1.0, 0.0, 0.0, 0.0, 1.0, 0.0, 1.0, 0.0, 0.0, 0.0, 1.0, 1.0, 0.0, 0.0, 0.0, 0.0, 1.0, 1.0, 0.0, 0.0, 0.0, 0.0, 0.0, 0.0, 0.0, 0.0, 0.0, 0.0, 0.0, 0.0, 1.0, 1.0, 0.0, 0.0, 0.0, 1.0, 1.0, 1.0, 0.0, 0.0, 0.0, 0.0, 0.0, 1.0, 0.0, 1.0, 1.0, 0.0, 1.0, 0.0, 0.0, 0.0, 0.0, 0.0, 0.0, 0.0, 1.0, 0.0, 0.0, 0.0, 1.0, 1.0, 1.0, 0.0, 1.0, 1.0, 0.0, 0.0, 0.0, 0.0, 0.0, 1.0, 1.0, 1.0, 1.0, 0.0, 1.0, 0.0, 1.0, 0.0, 0.0, 1.0, 1.0, 0.0, 0.0, 0.0, 0.0, 0.0, 0.0, 0.0, 0.0, 0.0, 1.0, 0.0, 1.0, 0.0, 0.0, 1.0, 0.0, 0.0, 1.0, 1.0, 0.0, 0.0, 0.0, 0.0, 0.0, 0.0, 0.0, 0.0, 0.0, 1.0, 0.0, 0.0, 1.0, 0.0, 0.0, 0.0, 0.0, 0.0, 1.0, 0.0, 1.0, 0.0, 1.0, 0.0, 0.0, 1.0, 1.0, 1.0, 1.0, 1.0, 0.0, 0.0, 0.0, 0.0, 0.0, 1.0, 0.0, 1.0, 1.0, 0.0, 1.0, 1.0, 0.0, 0.0, 1.0, 0.0, 0.0, 1.0, 0.0, 1.0, 1.0, 1.0, 0.0, 0.0, 0.0, 1.0, 0.0, 0.0, 1.0, 0.0, 1.0, 0.0, 0.0, 1.0, 0.0, 0.0, 0.0, 1.0, 0.0, 0.0, 1.0, 0.0, 0.0, 1.0, 0.0, 1.0, 0.0, 0.0, 0.0, 0.0, 1.0, 0.0, 0.0, 0.0, 0.0, 0.0, 0.0, 0.0, 0.0, 1.0, 0.0, 1.0, 0.0, 1.0, 1.0, 1.0, 0.0, 1.0, 1.0, 0.0, 1.0, 1.0, 0.0, 0.0, 0.0, 0.0, 1.0, 1.0, 0.0, 0.0, 1.0, 0.0, 0.0, 0.0, 1.0, 1.0, 1.0, 1.0, 0.0, 0.0, 0.0, 1.0, 1.0, 0.0, 0.0, 1.0, 1.0, 0.0, 0.0, 0.0, 0.0, 1.0, 0.0, 0.0, 1.0, 0.0, 1.0, 0.0, 1.0, 0.0, 1.0, 0.0, 0.0, 0.0, 0.0, 0.0, 0.0, 1.0, 1.0, 0.0, 0.0, 0.0, 1.0, 0.0, 0.0, 1.0, 0.0, 0.0, 0.0, 1.0, 0.0, 0.0, 0.0, 0.0, 1.0, 0.0, 0.0, 0.0, 0.0, 0.0, 1.0, 0.0, 0.0, 1.0, 0.0, 0.0, 0.0, 0.0, 0.0, 0.0, 0.0, 0.0, 0.0, 1.0, 0.0, 0.0, 0.0, 0.0, 0.0, 0.0, 1.0, 1.0, 0.0, 0.0, 0.0, 1.0, 0.0, 1.0, 1.0, 1.0, 1.0, 1.0, 1.0, 1.0, 0.0, 0.0, 1.0, 0.0, 0.0, 0.0, 0.0, 0.0, 0.0, 1.0, 0.0, 0.0, 1.0, 1.0, 0.0, 0.0, 1.0, 0.0, 0.0, 0.0, 0.0, 1.0, 0.0, 0.0, 0.0, 0.0, 0.0, 1.0, 0.0, 0.0, 1.0, 0.0, 1.0, 0.0, 0.0, 0.0, 0.0, 0.0, 0.0, 0.0, 0.0, 0.0, 1.0, 1.0, 1.0, 0.0, 1.0, 0.0, 0.0, 0.0, 0.0, 0.0, 0.0, 0.0, 1.0, 0.0, 0.0, 1.0, 0.0, 1.0, 1.0, 0.0, 1.0, 0.0, 1.0, 0.0, 0.0, 0.0, 1.0, 0.0, 0.0, 1.0, 0.0, 1.0, 0.0, 0.0, 0.0, 1.0, 0.0, 0.0, 0.0, 1.0, 1.0, 0.0, 0.0, 1.0, 0.0, 1.0, 0.0, 0.0, 0.0, 0.0, 0.0, 1.0, 0.0, 0.0, 0.0, 1.0, 0.0, 1.0, 1.0, 1.0, 1.0, 1.0, 0.0, 0.0, 0.0, 1.0, 1.0, 1.0, 0.0, 1.0, 0.0, 0.0, 0.0, 0.0, 1.0, 1.0, 1.0, 0.0, 1.0, 0.0, 0.0, 1.0, 0.0, 0.0, 0.0, 0.0, 1.0, 1.0, 0.0, 1.0, 1.0, 1.0, 0.0, 1.0, 0.0, 0.0, 1.0, 0.0, 0.0, 0.0, 1.0, 0.0, 0.0, 0.0, 1.0, 0.0, 0.0, 0.0, 1.0, 0.0, 1.0, 0.0, 0.0, 1.0, 0.0, 0.0, 0.0, 0.0, 1.0, 0.0, 1.0, 0.0]\n",
      "testTarget:  [0.0, 0.0, 1.0, 0.0, 0.0, 1.0, 0.0, 0.0, 0.0, 0.0, 0.0, 0.0, 1.0, 1.0, 1.0, 0.0, 0.0, 0.0, 0.0, 0.0, 1.0, 1.0, 0.0, 1.0, 0.0, 1.0, 0.0, 0.0, 0.0, 0.0, 0.0, 1.0, 1.0, 0.0, 0.0, 0.0, 0.0, 0.0, 0.0, 0.0, 0.0, 1.0, 0.0, 1.0, 0.0, 0.0, 0.0, 0.0, 1.0, 0.0, 0.0, 0.0, 0.0, 0.0, 0.0, 0.0, 0.0, 1.0, 0.0, 1.0, 1.0, 0.0, 0.0, 0.0, 0.0, 0.0, 0.0, 0.0, 1.0, 0.0, 1.0, 1.0, 1.0, 0.0, 0.0, 1.0, 1.0, 0.0, 0.0, 1.0, 0.0, 0.0, 0.0, 1.0, 0.0, 1.0, 1.0, 1.0, 0.0, 1.0, 1.0, 0.0, 0.0, 1.0, 0.0, 1.0, 0.0, 0.0, 0.0, 1.0, 0.0, 1.0, 1.0, 1.0, 0.0, 1.0, 0.0, 1.0, 1.0, 0.0, 1.0, 1.0, 0.0, 0.0, 0.0, 0.0, 0.0, 1.0, 0.0, 0.0, 0.0, 0.0, 0.0, 0.0, 1.0, 0.0, 0.0, 0.0, 1.0, 0.0, 0.0, 0.0, 0.0, 0.0, 0.0, 0.0, 1.0, 0.0, 0.0, 0.0, 1.0, 0.0, 1.0, 1.0, 1.0, 0.0, 1.0, 0.0, 0.0, 0.0, 0.0, 1.0, 0.0, 0.0, 1.0, 0.0, 0.0, 0.0, 0.0, 1.0, 0.0, 1.0, 0.0, 1.0, 0.0, 0.0, 0.0, 0.0, 1.0, 1.0, 0.0, 1.0, 0.0, 0.0, 0.0, 1.0, 1.0, 0.0, 1.0, 0.0, 0.0, 0.0, 0.0, 1.0, 0.0, 0.0, 0.0, 0.0, 1.0, 1.0, 0.0, 0.0, 0.0, 1.0, 0.0, 0.0, 0.0, 1.0, 1.0, 0.0, 0.0, 0.0, 1.0, 1.0, 1.0, 0.0, 1.0, 0.0, 1.0, 1.0, 0.0, 0.0, 0.0, 0.0, 0.0, 1.0, 1.0, 0.0, 1.0, 1.0, 0.0, 1.0, 0.0]\n"
     ]
    }
   ],
   "source": [
    "fileName = \"diabetes.csv\"\n",
    "fp = open(fileName, 'r')\n",
    "lines = fp.readlines()\n",
    "\n",
    "headers, rows, columns = loadData(lines) #function call to load data (also acts as the main function)\n",
    "\n",
    "rows = shuffleData(rows) #function call to shuffle data\n",
    "\n",
    "trainData, testData, trainTarget, testTarget, trainFeatures, testFeatures = splitData(rows) #function call to split data\n"
   ]
  },
  {
   "cell_type": "code",
   "execution_count": 101,
   "metadata": {},
   "outputs": [
    {
     "name": "stdout",
     "output_type": "stream",
     "text": [
      "\n",
      "Accuracy on training data:  0.7884615384615384\n"
     ]
    }
   ],
   "source": [
    "#performance of the model on train data\n",
    "kNearestLabels = knnModel(13, trainFeatures, trainFeatures, distFunc=euclideanDistance)\n",
    "scores = []\n",
    "for i, label in kNearestLabels:\n",
    "    correct = 0\n",
    "    if trainTarget[i] == label:\n",
    "        correct += 1\n",
    "    scores.append(correct)\n",
    "print('\\nAccuracy on training data: ', (sum(scores)/float(len(scores))))"
   ]
  },
  {
   "cell_type": "markdown",
   "metadata": {},
   "source": [
    "Performance of the model at different k values"
   ]
  },
  {
   "cell_type": "code",
   "execution_count": 102,
   "metadata": {
    "scrolled": false
   },
   "outputs": [
    {
     "name": "stdout",
     "output_type": "stream",
     "text": [
      "\n",
      "Performance of KNN model using euclidean distance when k = 1\n",
      "Confusion Matrix:\n",
      " 38 40\n",
      " 40 105\n",
      "Accuracy:  0.6412556053811659\n",
      "Precision:  0.48717948717948717\n",
      "Recall:  0.48717948717948717\n",
      "\n",
      "Performance of KNN model using euclidean distance when k = 2\n",
      "Confusion Matrix:\n",
      " 38 40\n",
      " 40 105\n",
      "Accuracy:  0.6412556053811659\n",
      "Precision:  0.48717948717948717\n",
      "Recall:  0.48717948717948717\n",
      "\n",
      "Performance of KNN model using euclidean distance when k = 3\n",
      "Confusion Matrix:\n",
      " 33 45\n",
      " 31 114\n",
      "Accuracy:  0.6591928251121076\n",
      "Precision:  0.515625\n",
      "Recall:  0.4230769230769231\n",
      "\n",
      "Performance of KNN model using euclidean distance when k = 4\n",
      "Confusion Matrix:\n",
      " 39 39\n",
      " 36 109\n",
      "Accuracy:  0.6636771300448431\n",
      "Precision:  0.52\n",
      "Recall:  0.5\n",
      "\n",
      "Performance of KNN model using euclidean distance when k = 5\n",
      "Confusion Matrix:\n",
      " 34 44\n",
      " 29 116\n",
      "Accuracy:  0.672645739910314\n",
      "Precision:  0.5396825396825397\n",
      "Recall:  0.4358974358974359\n",
      "\n",
      "Performance of KNN model using euclidean distance when k = 6\n",
      "Confusion Matrix:\n",
      " 36 42\n",
      " 32 113\n",
      "Accuracy:  0.6681614349775785\n",
      "Precision:  0.5294117647058824\n",
      "Recall:  0.46153846153846156\n",
      "\n",
      "Performance of KNN model using euclidean distance when k = 7\n",
      "Confusion Matrix:\n",
      " 34 44\n",
      " 27 118\n",
      "Accuracy:  0.6816143497757847\n",
      "Precision:  0.5573770491803278\n",
      "Recall:  0.4358974358974359\n",
      "\n",
      "Performance of KNN model using euclidean distance when k = 8\n",
      "Confusion Matrix:\n",
      " 38 40\n",
      " 28 117\n",
      "Accuracy:  0.695067264573991\n",
      "Precision:  0.5757575757575758\n",
      "Recall:  0.48717948717948717\n",
      "\n",
      "Performance of KNN model using euclidean distance when k = 9\n",
      "Confusion Matrix:\n",
      " 37 41\n",
      " 21 124\n",
      "Accuracy:  0.7219730941704036\n",
      "Precision:  0.6379310344827587\n",
      "Recall:  0.47435897435897434\n",
      "\n",
      "Performance of KNN model using euclidean distance when k = 10\n",
      "Confusion Matrix:\n",
      " 39 39\n",
      " 24 121\n",
      "Accuracy:  0.7174887892376681\n",
      "Precision:  0.6190476190476191\n",
      "Recall:  0.5\n",
      "\n",
      "Performance of KNN model using euclidean distance when k = 11\n",
      "Confusion Matrix:\n",
      " 39 39\n",
      " 21 124\n",
      "Accuracy:  0.7309417040358744\n",
      "Precision:  0.65\n",
      "Recall:  0.5\n",
      "\n",
      "Performance of KNN model using euclidean distance when k = 12\n",
      "Confusion Matrix:\n",
      " 36 42\n",
      " 20 125\n",
      "Accuracy:  0.7219730941704036\n",
      "Precision:  0.6428571428571429\n",
      "Recall:  0.46153846153846156\n",
      "\n",
      "Performance of KNN model using euclidean distance when k = 13\n",
      "Confusion Matrix:\n",
      " 41 37\n",
      " 22 123\n",
      "Accuracy:  0.7354260089686099\n",
      "Precision:  0.6507936507936508\n",
      "Recall:  0.5256410256410257\n",
      "\n",
      "Performance of KNN model using euclidean distance when k = 14\n",
      "Confusion Matrix:\n",
      " 36 42\n",
      " 22 123\n",
      "Accuracy:  0.7130044843049327\n",
      "Precision:  0.6206896551724138\n",
      "Recall:  0.46153846153846156\n",
      "\n",
      "Performance of KNN model using euclidean distance when k = 15\n",
      "Confusion Matrix:\n",
      " 36 42\n",
      " 22 123\n",
      "Accuracy:  0.7130044843049327\n",
      "Precision:  0.6206896551724138\n",
      "Recall:  0.46153846153846156\n"
     ]
    }
   ],
   "source": [
    "accuracy = []\n",
    "for kValue in range(1, 16): \n",
    "    kNearestLabels = knnModel(kValue, testFeatures, trainFeatures, distFunc=euclideanDistance)\n",
    "    print('\\nPerformance of KNN model using euclidean distance when k = '+str(kValue))\n",
    "    accuracy.append(classificationReport(kNearestLabels))"
   ]
  },
  {
   "cell_type": "code",
   "execution_count": 103,
   "metadata": {},
   "outputs": [
    {
     "data": {
      "image/png": "[encoded data removed]",
      "text/plain": [
       "<Figure size 432x288 with 1 Axes>"
      ]
     },
     "metadata": {
      "needs_background": "light"
     },
     "output_type": "display_data"
    }
   ],
   "source": [
    "#plot to show the variation of accuracy with different k values\n",
    "plt.plot(accuracy)\n",
    "plt.ylabel(\"Accuracy\")\n",
    "plt.xlabel(\"k values\")\n",
    "plt.show()"
   ]
  },
  {
   "cell_type": "markdown",
   "metadata": {},
   "source": [
    "From the above plot, we observe that the model accuracy increases with increase in the k value and reaches a maximum of 73.5% at k = 13"
   ]
  },
  {
   "cell_type": "code",
   "execution_count": 104,
   "metadata": {},
   "outputs": [],
   "source": [
    "#choosing the k value that gave the highest accuracy\n",
    "kValue = 13"
   ]
  },
  {
   "cell_type": "code",
   "execution_count": 105,
   "metadata": {},
   "outputs": [
    {
     "name": "stdout",
     "output_type": "stream",
     "text": [
      "\n",
      "Performance of KNN model using euclideanDistance when k = 13\n",
      "Confusion Matrix:\n",
      " 41 37\n",
      " 22 123\n",
      "Accuracy:  0.7354260089686099\n",
      "Precision:  0.6507936507936508\n",
      "Recall:  0.5256410256410257\n",
      "\n",
      "Performance of KNN model using manhattanDistance when k = 13\n",
      "Confusion Matrix:\n",
      " 39 39\n",
      " 17 128\n",
      "Accuracy:  0.7488789237668162\n",
      "Precision:  0.6964285714285714\n",
      "Recall:  0.5\n",
      "\n",
      "Performance of KNN model using chebyshevDistance when k = 13\n",
      "Confusion Matrix:\n",
      " 38 40\n",
      " 23 122\n",
      "Accuracy:  0.7174887892376681\n",
      "Precision:  0.6229508196721312\n",
      "Recall:  0.48717948717948717\n"
     ]
    }
   ],
   "source": [
    "#using different distance metrics: manhattanDistance and chebyshevDistance\n",
    "distanceMetrics = [euclideanDistance, manhattanDistance, chebyshevDistance]\n",
    "for metric in distanceMetrics:\n",
    "    kNearestLabels = knnModel(kValue, testFeatures, trainFeatures, distFunc=metric)\n",
    "    print('\\nPerformance of KNN model using '+ metric.__name__ + ' when k = '+str(kValue))\n",
    "    classificationReport(kNearestLabels)"
   ]
  },
  {
   "cell_type": "markdown",
   "metadata": {},
   "source": [
    "Normalizing the dataset"
   ]
  },
  {
   "cell_type": "code",
   "execution_count": 106,
   "metadata": {},
   "outputs": [
    {
     "name": "stdout",
     "output_type": "stream",
     "text": [
      "trainTarget:  [0.0, 0.0, 0.0, 1.0, 0.0, 1.0, 1.0, 0.0, 1.0, 0.0, 0.0, 0.0, 1.0, 0.0, 0.0, 1.0, 1.0, 0.0, 1.0, 0.0, 0.0, 1.0, 0.0, 1.0, 0.0, 0.0, 1.0, 0.0, 1.0, 0.0, 0.0, 0.0, 0.0, 0.0, 0.0, 0.0, 0.0, 0.0, 1.0, 1.0, 1.0, 0.0, 0.0, 1.0, 0.0, 1.0, 0.0, 0.0, 0.0, 0.0, 1.0, 0.0, 0.0, 0.0, 1.0, 0.0, 1.0, 0.0, 0.0, 0.0, 1.0, 1.0, 0.0, 0.0, 0.0, 0.0, 1.0, 1.0, 0.0, 0.0, 0.0, 0.0, 0.0, 0.0, 0.0, 0.0, 0.0, 0.0, 0.0, 0.0, 1.0, 1.0, 0.0, 0.0, 0.0, 1.0, 1.0, 1.0, 0.0, 0.0, 0.0, 0.0, 0.0, 1.0, 0.0, 1.0, 1.0, 0.0, 1.0, 0.0, 0.0, 0.0, 0.0, 0.0, 0.0, 0.0, 1.0, 0.0, 0.0, 0.0, 1.0, 1.0, 1.0, 0.0, 1.0, 1.0, 0.0, 0.0, 0.0, 0.0, 0.0, 1.0, 1.0, 1.0, 1.0, 0.0, 1.0, 0.0, 1.0, 0.0, 0.0, 1.0, 1.0, 0.0, 0.0, 0.0, 0.0, 0.0, 0.0, 0.0, 0.0, 0.0, 1.0, 0.0, 1.0, 0.0, 0.0, 1.0, 0.0, 0.0, 1.0, 1.0, 0.0, 0.0, 0.0, 0.0, 0.0, 0.0, 0.0, 0.0, 0.0, 1.0, 0.0, 0.0, 1.0, 0.0, 0.0, 0.0, 0.0, 0.0, 1.0, 0.0, 1.0, 0.0, 1.0, 0.0, 0.0, 1.0, 1.0, 1.0, 1.0, 1.0, 0.0, 0.0, 0.0, 0.0, 0.0, 1.0, 0.0, 1.0, 1.0, 0.0, 1.0, 1.0, 0.0, 0.0, 1.0, 0.0, 0.0, 1.0, 0.0, 1.0, 1.0, 1.0, 0.0, 0.0, 0.0, 1.0, 0.0, 0.0, 1.0, 0.0, 1.0, 0.0, 0.0, 1.0, 0.0, 0.0, 0.0, 1.0, 0.0, 0.0, 1.0, 0.0, 0.0, 1.0, 0.0, 1.0, 0.0, 0.0, 0.0, 0.0, 1.0, 0.0, 0.0, 0.0, 0.0, 0.0, 0.0, 0.0, 0.0, 1.0, 0.0, 1.0, 0.0, 1.0, 1.0, 1.0, 0.0, 1.0, 1.0, 0.0, 1.0, 1.0, 0.0, 0.0, 0.0, 0.0, 1.0, 1.0, 0.0, 0.0, 1.0, 0.0, 0.0, 0.0, 1.0, 1.0, 1.0, 1.0, 0.0, 0.0, 0.0, 1.0, 1.0, 0.0, 0.0, 1.0, 1.0, 0.0, 0.0, 0.0, 0.0, 1.0, 0.0, 0.0, 1.0, 0.0, 1.0, 0.0, 1.0, 0.0, 1.0, 0.0, 0.0, 0.0, 0.0, 0.0, 0.0, 1.0, 1.0, 0.0, 0.0, 0.0, 1.0, 0.0, 0.0, 1.0, 0.0, 0.0, 0.0, 1.0, 0.0, 0.0, 0.0, 0.0, 1.0, 0.0, 0.0, 0.0, 0.0, 0.0, 1.0, 0.0, 0.0, 1.0, 0.0, 0.0, 0.0, 0.0, 0.0, 0.0, 0.0, 0.0, 0.0, 1.0, 0.0, 0.0, 0.0, 0.0, 0.0, 0.0, 1.0, 1.0, 0.0, 0.0, 0.0, 1.0, 0.0, 1.0, 1.0, 1.0, 1.0, 1.0, 1.0, 1.0, 0.0, 0.0, 1.0, 0.0, 0.0, 0.0, 0.0, 0.0, 0.0, 1.0, 0.0, 0.0, 1.0, 1.0, 0.0, 0.0, 1.0, 0.0, 0.0, 0.0, 0.0, 1.0, 0.0, 0.0, 0.0, 0.0, 0.0, 1.0, 0.0, 0.0, 1.0, 0.0, 1.0, 0.0, 0.0, 0.0, 0.0, 0.0, 0.0, 0.0, 0.0, 0.0, 1.0, 1.0, 1.0, 0.0, 1.0, 0.0, 0.0, 0.0, 0.0, 0.0, 0.0, 0.0, 1.0, 0.0, 0.0, 1.0, 0.0, 1.0, 1.0, 0.0, 1.0, 0.0, 1.0, 0.0, 0.0, 0.0, 1.0, 0.0, 0.0, 1.0, 0.0, 1.0, 0.0, 0.0, 0.0, 1.0, 0.0, 0.0, 0.0, 1.0, 1.0, 0.0, 0.0, 1.0, 0.0, 1.0, 0.0, 0.0, 0.0, 0.0, 0.0, 1.0, 0.0, 0.0, 0.0, 1.0, 0.0, 1.0, 1.0, 1.0, 1.0, 1.0, 0.0, 0.0, 0.0, 1.0, 1.0, 1.0, 0.0, 1.0, 0.0, 0.0, 0.0, 0.0, 1.0, 1.0, 1.0, 0.0, 1.0, 0.0, 0.0, 1.0, 0.0, 0.0, 0.0, 0.0, 1.0, 1.0, 0.0, 1.0, 1.0, 1.0, 0.0, 1.0, 0.0, 0.0, 1.0, 0.0, 0.0, 0.0, 1.0, 0.0, 0.0, 0.0, 1.0, 0.0, 0.0, 0.0, 1.0, 0.0, 1.0, 0.0, 0.0, 1.0, 0.0, 0.0, 0.0, 0.0, 1.0, 0.0, 1.0, 0.0]\n",
      "testTarget:  [0.0, 0.0, 1.0, 0.0, 0.0, 1.0, 0.0, 0.0, 0.0, 0.0, 0.0, 0.0, 1.0, 1.0, 1.0, 0.0, 0.0, 0.0, 0.0, 0.0, 1.0, 1.0, 0.0, 1.0, 0.0, 1.0, 0.0, 0.0, 0.0, 0.0, 0.0, 1.0, 1.0, 0.0, 0.0, 0.0, 0.0, 0.0, 0.0, 0.0, 0.0, 1.0, 0.0, 1.0, 0.0, 0.0, 0.0, 0.0, 1.0, 0.0, 0.0, 0.0, 0.0, 0.0, 0.0, 0.0, 0.0, 1.0, 0.0, 1.0, 1.0, 0.0, 0.0, 0.0, 0.0, 0.0, 0.0, 0.0, 1.0, 0.0, 1.0, 1.0, 1.0, 0.0, 0.0, 1.0, 1.0, 0.0, 0.0, 1.0, 0.0, 0.0, 0.0, 1.0, 0.0, 1.0, 1.0, 1.0, 0.0, 1.0, 1.0, 0.0, 0.0, 1.0, 0.0, 1.0, 0.0, 0.0, 0.0, 1.0, 0.0, 1.0, 1.0, 1.0, 0.0, 1.0, 0.0, 1.0, 1.0, 0.0, 1.0, 1.0, 0.0, 0.0, 0.0, 0.0, 0.0, 1.0, 0.0, 0.0, 0.0, 0.0, 0.0, 0.0, 1.0, 0.0, 0.0, 0.0, 1.0, 0.0, 0.0, 0.0, 0.0, 0.0, 0.0, 0.0, 1.0, 0.0, 0.0, 0.0, 1.0, 0.0, 1.0, 1.0, 1.0, 0.0, 1.0, 0.0, 0.0, 0.0, 0.0, 1.0, 0.0, 0.0, 1.0, 0.0, 0.0, 0.0, 0.0, 1.0, 0.0, 1.0, 0.0, 1.0, 0.0, 0.0, 0.0, 0.0, 1.0, 1.0, 0.0, 1.0, 0.0, 0.0, 0.0, 1.0, 1.0, 0.0, 1.0, 0.0, 0.0, 0.0, 0.0, 1.0, 0.0, 0.0, 0.0, 0.0, 1.0, 1.0, 0.0, 0.0, 0.0, 1.0, 0.0, 0.0, 0.0, 1.0, 1.0, 0.0, 0.0, 0.0, 1.0, 1.0, 1.0, 0.0, 1.0, 0.0, 1.0, 1.0, 0.0, 0.0, 0.0, 0.0, 0.0, 1.0, 1.0, 0.0, 1.0, 1.0, 0.0, 1.0, 0.0]\n"
     ]
    }
   ],
   "source": [
    "normalRows = normalizeDataset()\n",
    "#splitting normalized dataset\n",
    "normalTrainData, normalTestData, normalTrainTarget, normalTestTarget, normalTrainFeatures, normalTestFeatures = splitData(normalRows)"
   ]
  },
  {
   "cell_type": "code",
   "execution_count": 107,
   "metadata": {},
   "outputs": [
    {
     "name": "stdout",
     "output_type": "stream",
     "text": [
      "\n",
      "Performance on normalizing the dataset\n",
      "Confusion Matrix:\n",
      " 36 42\n",
      " 12 133\n",
      "Accuracy:  0.757847533632287\n",
      "Precision:  0.75\n",
      "Recall:  0.46153846153846156\n"
     ]
    },
    {
     "data": {
      "text/plain": [
       "0.757847533632287"
      ]
     },
     "execution_count": 107,
     "metadata": {},
     "output_type": "execute_result"
    }
   ],
   "source": [
    "#performance of the KNN model on the normalized dataset \n",
    "print(\"\\nPerformance on normalizing the dataset\")\n",
    "kNearestLabels = knnModel(kValue, normalTestFeatures, normalTrainFeatures, distFunc=euclideanDistance)\n",
    "classificationReport(kNearestLabels)"
   ]
  },
  {
   "cell_type": "markdown",
   "metadata": {},
   "source": [
    "Ablation study on the normalized dataset"
   ]
  },
  {
   "cell_type": "code",
   "execution_count": 108,
   "metadata": {
    "scrolled": false
   },
   "outputs": [
    {
     "data": {
      "image/png": "[encoded data removed]",
      "text/plain": [
       "<Figure size 1800x2520 with 2 Axes>"
      ]
     },
     "metadata": {
      "needs_background": "light"
     },
     "output_type": "display_data"
    }
   ],
   "source": [
    "# converting list of lists to a dataframe\n",
    "df = pd.DataFrame(normalRows, columns = headers)\n",
    "\n",
    "#get correlations of each features in dataset\n",
    "corrmat = df.corr()\n",
    "top_corr_features = corrmat.index\n",
    "plt.figure(figsize=(25,35))\n",
    "#plot heat map\n",
    "ax=sns.heatmap(df[top_corr_features].corr(),annot=True,cmap=\"Blues\")\n",
    "plt.show()"
   ]
  },
  {
   "cell_type": "markdown",
   "metadata": {},
   "source": [
    "From the above plot, we observe that BloodPressure and SkinThickness columns correlate the least with the Outcome"
   ]
  },
  {
   "cell_type": "code",
   "execution_count": 109,
   "metadata": {},
   "outputs": [
    {
     "data": {
      "text/html": [
       "<div>\n",
       "<style scoped>\n",
       "    .dataframe tbody tr th:only-of-type {\n",
       "        vertical-align: middle;\n",
       "    }\n",
       "\n",
       "    .dataframe tbody tr th {\n",
       "        vertical-align: top;\n",
       "    }\n",
       "\n",
       "    .dataframe thead th {\n",
       "        text-align: right;\n",
       "    }\n",
       "</style>\n",
       "<table border=\"1\" class=\"dataframe\">\n",
       "  <thead>\n",
       "    <tr style=\"text-align: right;\">\n",
       "      <th></th>\n",
       "      <th>Pregnancies</th>\n",
       "      <th>Glucose</th>\n",
       "      <th>Insulin</th>\n",
       "      <th>BMI</th>\n",
       "      <th>DiabetesPedigreeFunction</th>\n",
       "      <th>Age</th>\n",
       "      <th>Outcome</th>\n",
       "    </tr>\n",
       "  </thead>\n",
       "  <tbody>\n",
       "    <tr>\n",
       "      <th>0</th>\n",
       "      <td>0.000000</td>\n",
       "      <td>0.738693</td>\n",
       "      <td>0.000000</td>\n",
       "      <td>0.637854</td>\n",
       "      <td>0.126815</td>\n",
       "      <td>0.050000</td>\n",
       "      <td>0.0</td>\n",
       "    </tr>\n",
       "    <tr>\n",
       "      <th>1</th>\n",
       "      <td>0.000000</td>\n",
       "      <td>0.542714</td>\n",
       "      <td>0.000000</td>\n",
       "      <td>0.406855</td>\n",
       "      <td>0.302733</td>\n",
       "      <td>0.183333</td>\n",
       "      <td>0.0</td>\n",
       "    </tr>\n",
       "    <tr>\n",
       "      <th>2</th>\n",
       "      <td>0.058824</td>\n",
       "      <td>0.517588</td>\n",
       "      <td>0.098109</td>\n",
       "      <td>0.645306</td>\n",
       "      <td>0.044833</td>\n",
       "      <td>0.200000</td>\n",
       "      <td>0.0</td>\n",
       "    </tr>\n",
       "    <tr>\n",
       "      <th>3</th>\n",
       "      <td>0.117647</td>\n",
       "      <td>0.452261</td>\n",
       "      <td>0.000000</td>\n",
       "      <td>0.569300</td>\n",
       "      <td>0.181469</td>\n",
       "      <td>0.100000</td>\n",
       "      <td>1.0</td>\n",
       "    </tr>\n",
       "    <tr>\n",
       "      <th>4</th>\n",
       "      <td>0.176471</td>\n",
       "      <td>0.437186</td>\n",
       "      <td>0.000000</td>\n",
       "      <td>0.324888</td>\n",
       "      <td>0.156277</td>\n",
       "      <td>0.000000</td>\n",
       "      <td>0.0</td>\n",
       "    </tr>\n",
       "  </tbody>\n",
       "</table>\n",
       "</div>"
      ],
      "text/plain": [
       "   Pregnancies   Glucose   Insulin       BMI  DiabetesPedigreeFunction  \\\n",
       "0     0.000000  0.738693  0.000000  0.637854                  0.126815   \n",
       "1     0.000000  0.542714  0.000000  0.406855                  0.302733   \n",
       "2     0.058824  0.517588  0.098109  0.645306                  0.044833   \n",
       "3     0.117647  0.452261  0.000000  0.569300                  0.181469   \n",
       "4     0.176471  0.437186  0.000000  0.324888                  0.156277   \n",
       "\n",
       "        Age  Outcome  \n",
       "0  0.050000      0.0  \n",
       "1  0.183333      0.0  \n",
       "2  0.200000      0.0  \n",
       "3  0.100000      1.0  \n",
       "4  0.000000      0.0  "
      ]
     },
     "execution_count": 109,
     "metadata": {},
     "output_type": "execute_result"
    }
   ],
   "source": [
    "#dropping the columns that are least correlated with the outcome\n",
    "df.drop(['BloodPressure', 'SkinThickness'], inplace=True, axis=1)\n",
    "df.head()"
   ]
  },
  {
   "cell_type": "code",
   "execution_count": 110,
   "metadata": {},
   "outputs": [
    {
     "name": "stdout",
     "output_type": "stream",
     "text": [
      "trainTarget:  [1.0, 1.0, 0.0, 0.0, 0.0, 1.0, 0.0, 1.0, 0.0, 0.0, 1.0, 1.0, 0.0, 0.0, 1.0, 1.0, 1.0, 0.0, 0.0, 0.0, 0.0, 0.0, 1.0, 0.0, 0.0, 0.0, 1.0, 1.0, 0.0, 0.0, 1.0, 1.0, 1.0, 0.0, 0.0, 0.0, 0.0, 1.0, 0.0, 0.0, 1.0, 0.0, 0.0, 0.0, 0.0, 0.0, 0.0, 0.0, 0.0, 1.0, 0.0, 0.0, 1.0, 0.0, 0.0, 0.0, 0.0, 0.0, 0.0, 0.0, 1.0, 1.0, 1.0, 0.0, 1.0, 1.0, 0.0, 0.0, 0.0, 0.0, 0.0, 0.0, 0.0, 0.0, 0.0, 0.0, 0.0, 0.0, 0.0, 1.0, 0.0, 0.0, 1.0, 1.0, 1.0, 0.0, 1.0, 0.0, 0.0, 1.0, 0.0, 0.0, 0.0, 0.0, 0.0, 1.0, 0.0, 1.0, 1.0, 0.0, 1.0, 1.0, 0.0, 0.0, 0.0, 0.0, 0.0, 1.0, 1.0, 1.0, 0.0, 0.0, 1.0, 0.0, 0.0, 0.0, 1.0, 1.0, 0.0, 0.0, 0.0, 1.0, 0.0, 0.0, 0.0, 0.0, 1.0, 0.0, 0.0, 0.0, 0.0, 1.0, 0.0, 1.0, 0.0, 0.0, 1.0, 1.0, 0.0, 1.0, 0.0, 0.0, 1.0, 1.0, 1.0, 0.0, 0.0, 0.0, 0.0, 0.0, 0.0, 1.0, 1.0, 0.0, 0.0, 1.0, 1.0, 0.0, 0.0, 0.0, 0.0, 1.0, 0.0, 0.0, 1.0, 0.0, 0.0, 0.0, 0.0, 0.0, 0.0, 1.0, 0.0, 0.0, 0.0, 0.0, 0.0, 1.0, 1.0, 1.0, 1.0, 0.0, 0.0, 0.0, 0.0, 0.0, 0.0, 1.0, 0.0, 1.0, 0.0, 0.0, 0.0, 0.0, 1.0, 0.0, 0.0, 0.0, 1.0, 0.0, 0.0, 0.0, 0.0, 0.0, 0.0, 0.0, 0.0, 1.0, 0.0, 0.0, 0.0, 1.0, 0.0, 0.0, 1.0, 0.0, 0.0, 0.0, 1.0, 0.0, 0.0, 0.0, 1.0, 1.0, 0.0, 0.0, 0.0, 1.0, 1.0, 0.0, 0.0, 1.0, 0.0, 0.0, 0.0, 1.0, 1.0, 0.0, 0.0, 1.0, 1.0, 0.0, 1.0, 0.0, 0.0, 0.0, 1.0, 0.0, 1.0, 0.0, 1.0, 0.0, 0.0, 1.0, 1.0, 1.0, 1.0, 0.0, 1.0, 0.0, 0.0, 0.0, 0.0, 1.0, 1.0, 0.0, 0.0, 0.0, 0.0, 1.0, 1.0, 1.0, 0.0, 0.0, 1.0, 1.0, 0.0, 0.0, 1.0, 1.0, 0.0, 0.0, 1.0, 1.0, 0.0, 0.0, 0.0, 0.0, 1.0, 1.0, 0.0, 0.0, 0.0, 1.0, 1.0, 0.0, 0.0, 1.0, 0.0, 0.0, 0.0, 0.0, 0.0, 0.0, 0.0, 1.0, 0.0, 1.0, 0.0, 0.0, 1.0, 0.0, 1.0, 0.0, 1.0, 0.0, 0.0, 0.0, 1.0, 0.0, 1.0, 0.0, 1.0, 0.0, 0.0, 0.0, 0.0, 0.0, 1.0, 1.0, 0.0, 0.0, 0.0, 0.0, 0.0, 1.0, 0.0, 1.0, 0.0, 1.0, 1.0, 1.0, 0.0, 0.0, 0.0, 0.0, 1.0, 1.0, 0.0, 1.0, 0.0, 1.0, 0.0, 1.0, 0.0, 1.0, 0.0, 0.0, 1.0, 0.0, 1.0, 1.0, 0.0, 0.0, 1.0, 0.0, 0.0, 1.0, 0.0, 0.0, 0.0, 0.0, 0.0, 1.0, 1.0, 1.0, 0.0, 1.0, 1.0, 0.0, 0.0, 0.0, 0.0, 1.0, 0.0, 0.0, 1.0, 1.0, 0.0, 0.0, 1.0, 0.0, 0.0, 0.0, 0.0, 1.0, 0.0, 0.0, 0.0, 0.0, 1.0, 0.0, 0.0, 1.0, 1.0, 1.0, 0.0, 0.0, 0.0, 1.0, 0.0, 1.0, 0.0, 0.0, 1.0, 1.0, 0.0, 0.0, 0.0, 0.0, 0.0, 1.0, 1.0, 0.0, 0.0, 1.0, 0.0, 0.0, 0.0, 1.0, 0.0, 1.0, 0.0, 0.0, 0.0, 0.0, 0.0, 0.0, 1.0, 0.0, 1.0, 0.0, 1.0, 0.0, 0.0, 1.0, 0.0, 1.0, 1.0, 0.0, 0.0, 0.0, 0.0, 0.0, 1.0, 0.0, 0.0, 0.0, 0.0, 0.0, 0.0, 1.0, 0.0, 0.0, 0.0, 0.0, 0.0, 1.0, 1.0, 1.0, 0.0, 0.0, 0.0, 0.0, 0.0, 1.0, 1.0, 0.0, 0.0, 0.0, 0.0, 0.0, 0.0, 1.0, 0.0, 1.0, 0.0, 0.0, 0.0, 1.0, 1.0, 0.0, 0.0, 0.0, 1.0, 1.0, 1.0, 0.0, 1.0, 0.0, 0.0, 1.0, 1.0, 1.0, 1.0, 1.0, 0.0, 0.0, 0.0, 0.0, 0.0, 0.0, 1.0, 0.0, 0.0, 0.0, 1.0, 1.0, 0.0, 0.0]\n",
      "testTarget:  [0.0, 1.0, 0.0, 0.0, 1.0, 0.0, 0.0, 1.0, 0.0, 0.0, 1.0, 0.0, 0.0, 1.0, 0.0, 1.0, 1.0, 0.0, 0.0, 0.0, 0.0, 1.0, 0.0, 1.0, 1.0, 0.0, 0.0, 0.0, 0.0, 0.0, 0.0, 1.0, 0.0, 0.0, 0.0, 0.0, 0.0, 1.0, 0.0, 0.0, 1.0, 1.0, 1.0, 0.0, 1.0, 0.0, 1.0, 0.0, 0.0, 0.0, 0.0, 1.0, 1.0, 0.0, 1.0, 1.0, 1.0, 1.0, 1.0, 0.0, 1.0, 0.0, 0.0, 0.0, 1.0, 0.0, 0.0, 0.0, 0.0, 1.0, 0.0, 1.0, 0.0, 0.0, 0.0, 0.0, 0.0, 0.0, 0.0, 1.0, 0.0, 0.0, 1.0, 0.0, 0.0, 0.0, 1.0, 0.0, 0.0, 0.0, 0.0, 1.0, 0.0, 0.0, 0.0, 0.0, 0.0, 0.0, 1.0, 0.0, 1.0, 0.0, 0.0, 1.0, 1.0, 0.0, 1.0, 1.0, 0.0, 0.0, 0.0, 0.0, 0.0, 0.0, 0.0, 0.0, 1.0, 0.0, 1.0, 1.0, 0.0, 1.0, 0.0, 0.0, 0.0, 0.0, 1.0, 1.0, 1.0, 0.0, 1.0, 0.0, 1.0, 0.0, 1.0, 0.0, 1.0, 0.0, 0.0, 0.0, 0.0, 0.0, 0.0, 1.0, 1.0, 0.0, 1.0, 1.0, 0.0, 0.0, 0.0, 1.0, 0.0, 0.0, 0.0, 0.0, 1.0, 0.0, 0.0, 0.0, 0.0, 0.0, 0.0, 0.0, 0.0, 0.0, 0.0, 0.0, 0.0, 1.0, 1.0, 1.0, 1.0, 0.0, 0.0, 1.0, 1.0, 1.0, 0.0, 1.0, 0.0, 0.0, 1.0, 0.0, 1.0, 0.0, 0.0, 0.0, 0.0, 1.0, 0.0, 1.0, 0.0, 1.0, 0.0, 0.0, 0.0, 1.0, 1.0, 0.0, 0.0, 0.0, 0.0, 1.0, 1.0, 1.0, 0.0, 0.0, 0.0, 0.0, 0.0, 1.0, 0.0, 1.0, 1.0, 1.0, 0.0, 0.0, 0.0, 1.0, 0.0, 0.0, 0.0]\n"
     ]
    }
   ],
   "source": [
    "newRows = df.values.tolist()\n",
    "\n",
    "newRows = shuffleData(newRows) #function call to shuffle data\n",
    "trainData, testData, trainTarget, testTarget, trainFeatures, testFeatures = splitData(newRows) #function call to split data\n",
    "kNearestLabels = knnModel(kValue, testFeatures, trainFeatures, distFunc=euclideanDistance)"
   ]
  },
  {
   "cell_type": "code",
   "execution_count": 111,
   "metadata": {},
   "outputs": [
    {
     "name": "stdout",
     "output_type": "stream",
     "text": [
      "\n",
      "Performance of the model after dropping the least correlated columns from the normalized dataset\n",
      "Confusion Matrix:\n",
      " 44 34\n",
      " 20 125\n",
      "Accuracy:  0.757847533632287\n",
      "Precision:  0.6875\n",
      "Recall:  0.5641025641025641\n"
     ]
    },
    {
     "data": {
      "text/plain": [
       "0.757847533632287"
      ]
     },
     "execution_count": 111,
     "metadata": {},
     "output_type": "execute_result"
    }
   ],
   "source": [
    "print(\"\\nPerformance of the model after dropping the least correlated columns from the normalized dataset\")\n",
    "classificationReport(kNearestLabels)"
   ]
  },
  {
   "cell_type": "markdown",
   "metadata": {},
   "source": [
    "Conclusion"
   ]
  },
  {
   "cell_type": "markdown",
   "metadata": {},
   "source": [
    "In the above code, the KNN model has been used to classify the diabetes dataset. The accuracy of the model over the training data is around 78.8% and on the test data is around 73.5% at k = 13. Also the model accuracy increases to 75.8% on normalizing the dataset. On performing the feature ablation study and dropping the columns that are least correlated to the outcome from the normalized dataset, the model accuracy reaches around 76%"
   ]
  }
 ],
 "metadata": {
  "kernelspec": {
   "display_name": "Python 3",
   "language": "python",
   "name": "python3"
  },
  "language_info": {
   "codemirror_mode": {
    "name": "ipython",
    "version": 3
   },
   "file_extension": ".py",
   "mimetype": "text/x-python",
   "name": "python",
   "nbconvert_exporter": "python",
   "pygments_lexer": "ipython3",
   "version": "3.7.2"
  }
 },
 "nbformat": 4,
 "nbformat_minor": 4
}
